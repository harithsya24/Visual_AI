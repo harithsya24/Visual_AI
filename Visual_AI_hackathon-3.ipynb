{
  "nbformat": 4,
  "nbformat_minor": 0,
  "metadata": {
    "colab": {
      "provenance": []
    },
    "kernelspec": {
      "name": "python3",
      "display_name": "Python 3"
    },
    "language_info": {
      "name": "python"
    }
  },
  "cells": [
    {
      "cell_type": "code",
      "source": [
        "import fiftyone as fo\n",
        "import fiftyone.utils.huggingface as fouh"
      ],
      "metadata": {
        "id": "AYSLa1EJKjFA"
      },
      "execution_count": 4,
      "outputs": []
    },
    {
      "cell_type": "code",
      "source": [
        "import fiftyone as fo\n",
        "\n",
        "datasets = fo.list_datasets()\n",
        "print(\"Existing Datasets:\", datasets)\n"
      ],
      "metadata": {
        "id": "ks1H72HEJmzt",
        "colab": {
          "base_uri": "https://localhost:8080/"
        },
        "outputId": "882a21e6-2eb0-4a5e-81d6-8272818f8dae"
      },
      "execution_count": 5,
      "outputs": [
        {
          "output_type": "stream",
          "name": "stdout",
          "text": [
            "Existing Datasets: ['Voxel51/VisDrone2019-DET']\n"
          ]
        }
      ]
    },
    {
      "cell_type": "code",
      "source": [
        "from google.colab import drive\n",
        "drive.mount('/content/drive')"
      ],
      "metadata": {
        "id": "E2Ig5o-AK1jP",
        "colab": {
          "base_uri": "https://localhost:8080/"
        },
        "outputId": "1b75f8f1-8a07-4fa7-961c-7ebef5e8c3b3"
      },
      "execution_count": 6,
      "outputs": [
        {
          "output_type": "stream",
          "name": "stdout",
          "text": [
            "Drive already mounted at /content/drive; to attempt to forcibly remount, call drive.mount(\"/content/drive\", force_remount=True).\n"
          ]
        }
      ]
    },
    {
      "cell_type": "code",
      "source": [
        "import fiftyone as fo\n",
        "dataset = fo.load_dataset(\"Voxel51/VisDrone2019-DET\")  #\"Voxel51/VisDrone2019-DET\""
      ],
      "metadata": {
        "id": "fRWsrBgaNagg"
      },
      "execution_count": 7,
      "outputs": []
    },
    {
      "cell_type": "code",
      "source": [
        "print(f\"Dataset name: {dataset.name}\")\n",
        "print(f\"Number of samples: {len(dataset)}\")\n",
        "\n",
        "for sample in dataset.take(5):\n",
        "    print(sample.id)\n"
      ],
      "metadata": {
        "id": "UQ2zOMiQOAr_",
        "colab": {
          "base_uri": "https://localhost:8080/"
        },
        "outputId": "bfc56e4b-1e15-41b7-de20-e204fbb0aa16"
      },
      "execution_count": 8,
      "outputs": [
        {
          "output_type": "stream",
          "name": "stdout",
          "text": [
            "Dataset name: Voxel51/VisDrone2019-DET\n",
            "Number of samples: 8629\n",
            "66182184534f2808b7fb6221\n",
            "66182184534f2808b7fb7e42\n",
            "66182184534f2808b7fb764b\n",
            "66182184534f2808b7fb6701\n",
            "66182184534f2808b7fb7f2e\n"
          ]
        }
      ]
    },
    {
      "cell_type": "code",
      "source": [
        "first_sample = dataset.first()\n",
        "field_names = first_sample.to_dict().keys()\n",
        "\n",
        "print(\"Field names in the dataset:\", list(field_names))\n"
      ],
      "metadata": {
        "id": "_XWj0DsMONxk",
        "colab": {
          "base_uri": "https://localhost:8080/"
        },
        "outputId": "a8874aaf-67a3-4dd0-beb0-7bc676e74038"
      },
      "execution_count": 9,
      "outputs": [
        {
          "output_type": "stream",
          "name": "stdout",
          "text": [
            "Field names in the dataset: ['filepath', 'tags', 'metadata', 'created_at', 'last_modified_at', 'ground_truth']\n"
          ]
        }
      ]
    },
    {
      "cell_type": "code",
      "source": [
        "for sample in dataset:\n",
        "    image_path = sample.filepath\n",
        "    print(f\"Image Path: {image_path}\")\n",
        "\n",
        "    if sample.ground_truth is not None:\n",
        "        detections = sample.ground_truth.detections\n",
        "        for detection in detections:\n",
        "            print(f\"Label: {detection.label}, Bounding Box: {detection.bounding_box}\")\n",
        "    else:\n",
        "        print(\"No ground truth annotations available.\")\n"
      ],
      "metadata": {
        "id": "0kGYdP8oOF0c"
      },
      "execution_count": null,
      "outputs": []
    },
    {
      "cell_type": "code",
      "source": [
        "import cv2\n",
        "\n",
        "def preprocess_image(image_path):\n",
        "    img = cv2.imread(image_path)\n",
        "    if img is None:\n",
        "        print(f\"Error loading image at {image_path}. Skipping...\")\n",
        "        return None\n",
        "\n",
        "    img = cv2.resize(img, (300, 300))\n",
        "    img = img / 255.0\n",
        "    return img\n",
        "\n",
        "images = []\n",
        "labels = []\n",
        "\n",
        "for sample in dataset:\n",
        "    image_path = sample.filepath\n",
        "    img = preprocess_image(image_path)\n",
        "\n",
        "    if img is not None:\n",
        "        images.append(img)\n",
        "\n",
        "        if sample.ground_truth is not None:\n",
        "            detections = sample.ground_truth.detections\n",
        "            label = [detection.label for detection in detections]\n",
        "            labels.append(label)\n",
        "        else:\n",
        "            labels.append([])"
      ],
      "metadata": {
        "id": "ptt3WOFQPNhF"
      },
      "execution_count": null,
      "outputs": []
    },
    {
      "cell_type": "code",
      "source": [
        "from sklearn.preprocessing import MultiLabelBinarizer\n",
        "\n",
        "mlb = MultiLabelBinarizer()\n",
        "y_encoded = mlb.fit_transform(labels)\n",
        "\n",
        "print(f\"Encoded labels shape: {y_encoded.shape}\")\n"
      ],
      "metadata": {
        "id": "mllDDVZ4U_a7"
      },
      "execution_count": null,
      "outputs": []
    },
    {
      "cell_type": "code",
      "source": [
        "from sklearn.model_selection import train_test_split\n",
        "\n",
        "X_train, X_test, y_train, y_test = train_test_split(images, y_encoded, test_size=0.2, random_state=42, stratify=y_encoded)\n",
        "\n",
        "print(f\"Training data shape: {X_train.shape}, Training labels shape: {y_train.shape}\")\n",
        "print(f\"Testing data shape: {X_test.shape}, Testing labels shape: {y_test.shape}\")\n"
      ],
      "metadata": {
        "id": "bat9gS1EUd9W"
      },
      "execution_count": null,
      "outputs": []
    },
    {
      "cell_type": "code",
      "source": [
        "import tensorflow as tf\n",
        "from tensorflow.keras import layers, Model\n",
        "from tensorflow.keras.applications import VGG16\n",
        "\n",
        "def ssd_model(input_shape=(300, 300, 3), num_classes=20):\n",
        "\n",
        "    base_model = VGG16(input_shape=input_shape, include_top=False, weights='imagenet')\n",
        "\n",
        "    feature_maps = [\n",
        "        base_model.get_layer('block3_conv3').output,\n",
        "        base_model.get_layer('block4_conv3').output,\n",
        "        base_model.get_layer('block5_conv3').output,\n",
        "        base_model.output  # 10x10\n",
        "    ]\n",
        "\n",
        "\n",
        "    x = base_model(input_shape)\n",
        "    predictions = []\n",
        "\n",
        "\n",
        "    for feature_map in feature_maps:\n",
        "        x = layers.Conv2D(4 * num_classes, kernel_size=(3, 3), padding='same')(feature_map)\n",
        "        predictions.append(x)\n",
        "\n",
        "        x = layers.Conv2D(4, kernel_size=(3, 3), padding='same')(feature_map)\n",
        "        predictions.append(x)\n",
        "\n",
        "\n",
        "    loc_preds = tf.concat([predictions[i] for i in range(0, len(predictions), 2)], axis=1)\n",
        "    class_preds = tf.concat([predictions[i] for i in range(1, len(predictions), 2)], axis=1)\n",
        "\n",
        "\n",
        "    model = Model(inputs=base_model.input, outputs=[loc_preds, class_preds])\n",
        "    return model\n",
        "\n",
        "model = ssd_model()\n",
        "model.compile(optimizer='adam',\n",
        "              loss={'bbox_output': 'mean_squared_error', 'class_output': 'sparse_categorical_crossentropy'},\n",
        "              metrics=['accuracy'])\n",
        "\n",
        "model.summary()\n"
      ],
      "metadata": {
        "id": "cpNShQCQUZwI"
      },
      "execution_count": null,
      "outputs": []
    },
    {
      "cell_type": "code",
      "source": [
        "num_samples = 1000\n",
        "X_train = np.random.random((num_samples, 300, 300, 3))\n",
        "y_train_boxes = np.random.random((num_samples, 4))\n",
        "y_train_classes = np.random.randint(0, 20, num_samples)\n",
        "\n",
        "model.fit(X_train, [y_train_boxes, y_train_classes], epochs=10, batch_size=32)\n",
        "\n",
        "loss = model.evaluate(X_train, [y_train_boxes, y_train_classes])\n",
        "print(f\"Test Accuracy: {test_acc}\")"
      ],
      "metadata": {
        "id": "g4QKNIFzcjiz"
      },
      "execution_count": null,
      "outputs": []
    },
    {
      "cell_type": "code",
      "source": [
        "predictions = model.predict(X_train)"
      ],
      "metadata": {
        "id": "UiUCPzM1U4Mq",
        "colab": {
          "base_uri": "https://localhost:8080/",
          "height": 139
        },
        "outputId": "0f953e4c-b938-47e7-b1cc-9a233b69d370"
      },
      "execution_count": 2,
      "outputs": [
        {
          "output_type": "error",
          "ename": "NameError",
          "evalue": "name 'model' is not defined",
          "traceback": [
            "\u001b[0;31m---------------------------------------------------------------------------\u001b[0m",
            "\u001b[0;31mNameError\u001b[0m                                 Traceback (most recent call last)",
            "\u001b[0;32m<ipython-input-2-5aa89d1eb082>\u001b[0m in \u001b[0;36m<cell line: 1>\u001b[0;34m()\u001b[0m\n\u001b[0;32m----> 1\u001b[0;31m \u001b[0mpredictions\u001b[0m \u001b[0;34m=\u001b[0m \u001b[0mmodel\u001b[0m\u001b[0;34m.\u001b[0m\u001b[0mpredict\u001b[0m\u001b[0;34m(\u001b[0m\u001b[0mX_train\u001b[0m\u001b[0;34m)\u001b[0m\u001b[0;34m\u001b[0m\u001b[0;34m\u001b[0m\u001b[0m\n\u001b[0m",
            "\u001b[0;31mNameError\u001b[0m: name 'model' is not defined"
          ]
        }
      ]
    }
  ]
}